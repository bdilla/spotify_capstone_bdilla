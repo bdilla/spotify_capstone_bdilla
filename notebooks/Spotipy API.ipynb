{
 "cells": [
  {
   "cell_type": "code",
   "execution_count": 4,
   "metadata": {},
   "outputs": [
    {
     "name": "stdout",
     "output_type": "stream",
     "text": [
      "Collecting spotipy\n",
      "  Using cached spotipy-2.16.1-py3-none-any.whl (24 kB)\n",
      "Requirement already satisfied: requests>=2.20.0 in c:\\users\\dilli\\anaconda3\\envs\\geospatial\\lib\\site-packages (from spotipy) (2.24.0)\n",
      "Requirement already satisfied: six>=1.10.0 in c:\\users\\dilli\\anaconda3\\envs\\geospatial\\lib\\site-packages (from spotipy) (1.15.0)\n",
      "Requirement already satisfied: chardet<4,>=3.0.2 in c:\\users\\dilli\\anaconda3\\envs\\geospatial\\lib\\site-packages (from requests>=2.20.0->spotipy) (3.0.4)\n",
      "Requirement already satisfied: idna<3,>=2.5 in c:\\users\\dilli\\anaconda3\\envs\\geospatial\\lib\\site-packages (from requests>=2.20.0->spotipy) (2.10)\n",
      "Requirement already satisfied: certifi>=2017.4.17 in c:\\users\\dilli\\anaconda3\\envs\\geospatial\\lib\\site-packages (from requests>=2.20.0->spotipy) (2020.6.20)\n",
      "Requirement already satisfied: urllib3!=1.25.0,!=1.25.1,<1.26,>=1.21.1 in c:\\users\\dilli\\anaconda3\\envs\\geospatial\\lib\\site-packages (from requests>=2.20.0->spotipy) (1.25.10)\n",
      "Installing collected packages: spotipy\n",
      "Successfully installed spotipy-2.16.1\n"
     ]
    }
   ],
   "source": [
    "!pip install spotipy"
   ]
  },
  {
   "cell_type": "code",
   "execution_count": 5,
   "metadata": {},
   "outputs": [],
   "source": [
    "import pandas as pd\n",
    "import numpy as np\n",
    "import matplotlib.pyplot as plt\n",
    "import folium\n",
    "import requests\n",
    "from time import sleep\n",
    "from random import randint\n",
    "import geopandas as gpd\n",
    "import geopy\n",
    "from shapely.geometry import Point\n",
    "import datetime\n",
    "from folium.plugins import MarkerCluster\n",
    "from folium.plugins import FastMarkerCluster\n",
    "\n",
    "%matplotlib inline"
   ]
  },
  {
   "cell_type": "code",
   "execution_count": 6,
   "metadata": {},
   "outputs": [
    {
     "name": "stdout",
     "output_type": "stream",
     "text": [
      "0 Island In The Sun\n",
      "1 Say It Ain't So\n",
      "2 Buddy Holly\n",
      "3 Beverly Hills\n",
      "4 Undone - The Sweater Song\n",
      "5 Hash Pipe\n",
      "6 Lost in the Woods - Weezer Version\n",
      "7 Africa\n",
      "8 My Name Is Jonas\n",
      "9 Hero\n",
      "10 Pork And Beans\n",
      "11 Feels Like Summer\n",
      "12 We Wish You A Merry Christmas\n",
      "13 El Scorcho\n",
      "14 Take on Me\n",
      "15 We Wish You A Merry Christmas\n",
      "16 Perfect Situation\n",
      "17 Only In Dreams\n",
      "18 Everybody Wants to Rule the World\n",
      "19 Weezer Medley\n"
     ]
    }
   ],
   "source": [
    "import spotipy\n",
    "from spotipy.oauth2 import SpotifyClientCredentials\n",
    "\n",
    "sp = spotipy.Spotify(auth_manager=SpotifyClientCredentials(client_id=\"dd1e7da8e4924986931df06f52c0ab26\",\n",
    "                                                           client_secret=\"93c91e7a06df4ca6b4984ebbb0c5e891\"))\n",
    "\n",
    "results = sp.search(q='weezer', limit=20)\n",
    "for idx, track in enumerate(results['tracks']['items']):\n",
    "    print(idx, track['name'])"
   ]
  }
 ],
 "metadata": {
  "kernelspec": {
   "display_name": "Python 3",
   "language": "python",
   "name": "python3"
  },
  "language_info": {
   "codemirror_mode": {
    "name": "ipython",
    "version": 3
   },
   "file_extension": ".py",
   "mimetype": "text/x-python",
   "name": "python",
   "nbconvert_exporter": "python",
   "pygments_lexer": "ipython3",
   "version": "3.8.5"
  }
 },
 "nbformat": 4,
 "nbformat_minor": 4
}
