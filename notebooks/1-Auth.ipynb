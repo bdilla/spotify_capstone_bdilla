{
 "cells": [
  {
   "cell_type": "code",
   "execution_count": 2,
   "metadata": {},
   "outputs": [],
   "source": [
    "import base64\n",
    "import requests\n",
    "import datetime"
   ]
  },
  {
   "cell_type": "code",
   "execution_count": 3,
   "metadata": {},
   "outputs": [],
   "source": [
    "client_id = 'dd1e7da8e4924986931df06f52c0ab26'\n",
    "client_secret = '93c91e7a06df4ca6b4984ebbb0c5e891'"
   ]
  },
  {
   "cell_type": "code",
   "execution_count": 4,
   "metadata": {},
   "outputs": [],
   "source": [
    "#do a lookup for a token\n",
    "#this token is for future requests"
   ]
  },
  {
   "cell_type": "code",
   "execution_count": 5,
   "metadata": {},
   "outputs": [
    {
     "data": {
      "text/plain": [
       "str"
      ]
     },
     "execution_count": 5,
     "metadata": {},
     "output_type": "execute_result"
    }
   ],
   "source": [
    "client_creds = f\"{client_id}:{client_secret}\"\n",
    "type(client_creds)"
   ]
  },
  {
   "cell_type": "code",
   "execution_count": 6,
   "metadata": {},
   "outputs": [
    {
     "data": {
      "text/plain": [
       "b'dd1e7da8e4924986931df06f52c0ab26:93c91e7a06df4ca6b4984ebbb0c5e891'"
      ]
     },
     "execution_count": 6,
     "metadata": {},
     "output_type": "execute_result"
    }
   ],
   "source": [
    "client_creds.encode() #turn str into bytes, .decode() turns it back"
   ]
  },
  {
   "cell_type": "code",
   "execution_count": 7,
   "metadata": {},
   "outputs": [
    {
     "data": {
      "text/plain": [
       "bytes"
      ]
     },
     "execution_count": 7,
     "metadata": {},
     "output_type": "execute_result"
    }
   ],
   "source": [
    "client_creds_b64 = base64.b64encode(client_creds.encode()) #encodes credentials and changes type to bytes\n",
    "type(client_creds_b64)"
   ]
  },
  {
   "cell_type": "code",
   "execution_count": 8,
   "metadata": {},
   "outputs": [],
   "source": [
    "token_url = \"https://accounts.spotify.com/api/token\"\n",
    "method = \"POST\"\n",
    "token_data = {\n",
    "    \"grant_type\":\"client_credentials\"\n",
    "}\n",
    "token_headers = {\n",
    "    \"Authorization\": f\"Basic {client_creds_b64.decode()}\" #<base64 encoded client_id:client_secret>\n",
    "}\n"
   ]
  },
  {
   "cell_type": "code",
   "execution_count": 9,
   "metadata": {},
   "outputs": [
    {
     "name": "stdout",
     "output_type": "stream",
     "text": [
      "{'access_token': 'BQDc-tEWV1Pkz9Xmj_02IUY4ktXPGF9VX80HF0VIGH8-U3qADtQH5d2m824qpQ75Ypgj3mL8U7nXoZMDDQ4', 'token_type': 'Bearer', 'expires_in': 3600, 'scope': ''}\n"
     ]
    }
   ],
   "source": [
    "r = requests.post(token_url, data=token_data, headers= token_headers)\n",
    "print(r.json())\n",
    "valid_request = r.status_code in range (200,299)"
   ]
  },
  {
   "cell_type": "code",
   "execution_count": 10,
   "metadata": {},
   "outputs": [],
   "source": [
    "if valid_request:\n",
    "    token_response_data = r.json()\n",
    "    now = datetime.datetime.now() #gives the exact time the request is happening\n",
    "    access_token = token_response_data['access_token']\n",
    "    expires_in =  token_response_data['expires_in'] #seconds\n",
    "    expires = now + datetime.timedelta(seconds=expires_in) #tells you how many seconds your access token expires in so you know when you renew your access_token\n",
    "    did_expire = expires < now #gives boolean response with whether or not token is expired"
   ]
  }
 ],
 "metadata": {
  "kernelspec": {
   "display_name": "Python 3",
   "language": "python",
   "name": "python3"
  },
  "language_info": {
   "codemirror_mode": {
    "name": "ipython",
    "version": 3
   },
   "file_extension": ".py",
   "mimetype": "text/x-python",
   "name": "python",
   "nbconvert_exporter": "python",
   "pygments_lexer": "ipython3",
   "version": "3.8.5"
  }
 },
 "nbformat": 4,
 "nbformat_minor": 4
}
